{
 "cells": [
  {
   "cell_type": "markdown",
   "metadata": {},
   "source": [
    "### Kaggle Competition | Porto Seguro’s Safe Driver Prediction\n",
    "\n",
    ">Nothing ruins the thrill of buying a brand new car more quickly than seeing your new insurance bill. The sting’s even more painful when you know you’re a good driver. It doesn’t seem fair that you have to pay so much if you’ve been cautious on the road for years.\n",
    "\n",
    ">Porto Seguro, one of Brazil’s largest auto and homeowner insurance companies, completely agrees. Inaccuracies in car insurance company’s claim predictions raise the cost of insurance for good drivers and reduce the price for bad ones.\n",
    "\n",
    ">In this competition, you’re challenged to build a model that predicts the probability that a driver will initiate an auto insurance claim in the next year. While Porto Seguro has used machine learning for the past 20 years, they’re looking to Kaggle’s machine learning community to explore new, more powerful methods. A more accurate prediction will allow them to further tailor their prices, and hopefully make auto insurance coverage more accessible to more drivers.\n",
    "\n",
    "### Data Description\n",
    "\n",
    ">In this competition, you will predict the probability that an auto insurance policy holder files a claim.\n",
    "\n",
    ">In the train and test data, features that belong to similar groupings are tagged as such in the feature names (e.g., *ind*, *reg*, *car*, *calc*). In addition, feature names include the postfix *bin* to indicate binary features and *cat* to indicate categorical features. Features without these designations are either continuous or ordinal. Values of **-1** indicate that the feature was missing from the observation. The *target* columns signifies whether or not a claim was filed for that policy holder.\n",
    "\n",
    "From the competition [homepage](https://www.kaggle.com/c/porto-seguro-safe-driver-prediction)."
   ]
  },
  {
   "cell_type": "markdown",
   "metadata": {},
   "source": [
    "### Notebook Content\n",
    "* About Missing Data\n",
    "* Drop Redundant Features & Replace Missing Data\n",
    "* Data Preparation\n",
    "* Feature Selection (Random Forest Classifier)\n",
    "* Train A Model (Logistic Regression)\n",
    "* Predict & Output\n",
    "* Kaggle Score"
   ]
  },
  {
   "cell_type": "code",
   "execution_count": 31,
   "metadata": {
    "collapsed": true
   },
   "outputs": [],
   "source": [
    "# python 2.7 \n",
    "import pandas as pd\n",
    "import numpy as np\n",
    "\n",
    "from sklearn.preprocessing import StandardScaler\n",
    "from sklearn.cross_validation import train_test_split\n",
    "\n",
    "from sklearn.ensemble import RandomForestClassifier\n",
    "from sklearn.metrics import roc_auc_score\n",
    "from sklearn.metrics import accuracy_score\n",
    "from sklearn.linear_model import LogisticRegression\n",
    "\n",
    "import seaborn as sns\n",
    "import matplotlib.pyplot as plt\n",
    "%matplotlib inline"
   ]
  },
  {
   "cell_type": "code",
   "execution_count": 37,
   "metadata": {
    "collapsed": false
   },
   "outputs": [
    {
     "name": "stdout",
     "output_type": "stream",
     "text": [
      "(595212, 59)\n",
      "(892816, 58)\n"
     ]
    },
    {
     "data": {
      "text/html": [
       "<div>\n",
       "<table border=\"1\" class=\"dataframe\">\n",
       "  <thead>\n",
       "    <tr style=\"text-align: right;\">\n",
       "      <th></th>\n",
       "      <th>id</th>\n",
       "      <th>target</th>\n",
       "      <th>ps_ind_01</th>\n",
       "      <th>ps_ind_02_cat</th>\n",
       "      <th>ps_ind_03</th>\n",
       "      <th>ps_ind_04_cat</th>\n",
       "      <th>ps_ind_05_cat</th>\n",
       "      <th>ps_ind_06_bin</th>\n",
       "      <th>ps_ind_07_bin</th>\n",
       "      <th>ps_ind_08_bin</th>\n",
       "      <th>...</th>\n",
       "      <th>ps_calc_11</th>\n",
       "      <th>ps_calc_12</th>\n",
       "      <th>ps_calc_13</th>\n",
       "      <th>ps_calc_14</th>\n",
       "      <th>ps_calc_15_bin</th>\n",
       "      <th>ps_calc_16_bin</th>\n",
       "      <th>ps_calc_17_bin</th>\n",
       "      <th>ps_calc_18_bin</th>\n",
       "      <th>ps_calc_19_bin</th>\n",
       "      <th>ps_calc_20_bin</th>\n",
       "    </tr>\n",
       "  </thead>\n",
       "  <tbody>\n",
       "    <tr>\n",
       "      <th>0</th>\n",
       "      <td>7</td>\n",
       "      <td>0</td>\n",
       "      <td>2</td>\n",
       "      <td>2</td>\n",
       "      <td>5</td>\n",
       "      <td>1</td>\n",
       "      <td>0</td>\n",
       "      <td>0</td>\n",
       "      <td>1</td>\n",
       "      <td>0</td>\n",
       "      <td>...</td>\n",
       "      <td>9</td>\n",
       "      <td>1</td>\n",
       "      <td>5</td>\n",
       "      <td>8</td>\n",
       "      <td>0</td>\n",
       "      <td>1</td>\n",
       "      <td>1</td>\n",
       "      <td>0</td>\n",
       "      <td>0</td>\n",
       "      <td>1</td>\n",
       "    </tr>\n",
       "    <tr>\n",
       "      <th>1</th>\n",
       "      <td>9</td>\n",
       "      <td>0</td>\n",
       "      <td>1</td>\n",
       "      <td>1</td>\n",
       "      <td>7</td>\n",
       "      <td>0</td>\n",
       "      <td>0</td>\n",
       "      <td>0</td>\n",
       "      <td>0</td>\n",
       "      <td>1</td>\n",
       "      <td>...</td>\n",
       "      <td>3</td>\n",
       "      <td>1</td>\n",
       "      <td>1</td>\n",
       "      <td>9</td>\n",
       "      <td>0</td>\n",
       "      <td>1</td>\n",
       "      <td>1</td>\n",
       "      <td>0</td>\n",
       "      <td>1</td>\n",
       "      <td>0</td>\n",
       "    </tr>\n",
       "    <tr>\n",
       "      <th>2</th>\n",
       "      <td>13</td>\n",
       "      <td>0</td>\n",
       "      <td>5</td>\n",
       "      <td>4</td>\n",
       "      <td>9</td>\n",
       "      <td>1</td>\n",
       "      <td>0</td>\n",
       "      <td>0</td>\n",
       "      <td>0</td>\n",
       "      <td>1</td>\n",
       "      <td>...</td>\n",
       "      <td>4</td>\n",
       "      <td>2</td>\n",
       "      <td>7</td>\n",
       "      <td>7</td>\n",
       "      <td>0</td>\n",
       "      <td>1</td>\n",
       "      <td>1</td>\n",
       "      <td>0</td>\n",
       "      <td>1</td>\n",
       "      <td>0</td>\n",
       "    </tr>\n",
       "    <tr>\n",
       "      <th>3</th>\n",
       "      <td>16</td>\n",
       "      <td>0</td>\n",
       "      <td>0</td>\n",
       "      <td>1</td>\n",
       "      <td>2</td>\n",
       "      <td>0</td>\n",
       "      <td>0</td>\n",
       "      <td>1</td>\n",
       "      <td>0</td>\n",
       "      <td>0</td>\n",
       "      <td>...</td>\n",
       "      <td>2</td>\n",
       "      <td>2</td>\n",
       "      <td>4</td>\n",
       "      <td>9</td>\n",
       "      <td>0</td>\n",
       "      <td>0</td>\n",
       "      <td>0</td>\n",
       "      <td>0</td>\n",
       "      <td>0</td>\n",
       "      <td>0</td>\n",
       "    </tr>\n",
       "    <tr>\n",
       "      <th>4</th>\n",
       "      <td>17</td>\n",
       "      <td>0</td>\n",
       "      <td>0</td>\n",
       "      <td>2</td>\n",
       "      <td>0</td>\n",
       "      <td>1</td>\n",
       "      <td>0</td>\n",
       "      <td>1</td>\n",
       "      <td>0</td>\n",
       "      <td>0</td>\n",
       "      <td>...</td>\n",
       "      <td>3</td>\n",
       "      <td>1</td>\n",
       "      <td>1</td>\n",
       "      <td>3</td>\n",
       "      <td>0</td>\n",
       "      <td>0</td>\n",
       "      <td>0</td>\n",
       "      <td>1</td>\n",
       "      <td>1</td>\n",
       "      <td>0</td>\n",
       "    </tr>\n",
       "  </tbody>\n",
       "</table>\n",
       "<p>5 rows × 59 columns</p>\n",
       "</div>"
      ],
      "text/plain": [
       "   id  target  ps_ind_01  ps_ind_02_cat  ps_ind_03  ps_ind_04_cat  \\\n",
       "0   7       0          2              2          5              1   \n",
       "1   9       0          1              1          7              0   \n",
       "2  13       0          5              4          9              1   \n",
       "3  16       0          0              1          2              0   \n",
       "4  17       0          0              2          0              1   \n",
       "\n",
       "   ps_ind_05_cat  ps_ind_06_bin  ps_ind_07_bin  ps_ind_08_bin       ...        \\\n",
       "0              0              0              1              0       ...         \n",
       "1              0              0              0              1       ...         \n",
       "2              0              0              0              1       ...         \n",
       "3              0              1              0              0       ...         \n",
       "4              0              1              0              0       ...         \n",
       "\n",
       "   ps_calc_11  ps_calc_12  ps_calc_13  ps_calc_14  ps_calc_15_bin  \\\n",
       "0           9           1           5           8               0   \n",
       "1           3           1           1           9               0   \n",
       "2           4           2           7           7               0   \n",
       "3           2           2           4           9               0   \n",
       "4           3           1           1           3               0   \n",
       "\n",
       "   ps_calc_16_bin  ps_calc_17_bin  ps_calc_18_bin  ps_calc_19_bin  \\\n",
       "0               1               1               0               0   \n",
       "1               1               1               0               1   \n",
       "2               1               1               0               1   \n",
       "3               0               0               0               0   \n",
       "4               0               0               1               1   \n",
       "\n",
       "   ps_calc_20_bin  \n",
       "0               1  \n",
       "1               0  \n",
       "2               0  \n",
       "3               0  \n",
       "4               0  \n",
       "\n",
       "[5 rows x 59 columns]"
      ]
     },
     "execution_count": 37,
     "metadata": {},
     "output_type": "execute_result"
    }
   ],
   "source": [
    "# read data\n",
    "train = pd.read_csv(\"train.csv\") \n",
    "test = pd.read_csv(\"test.csv\")\n",
    "print train.shape\n",
    "print test.shape\n",
    "train.head()"
   ]
  },
  {
   "cell_type": "markdown",
   "metadata": {},
   "source": [
    "The *test* dataset doesn't have the column **target**. I will be predicting whethere a claim will be filed (target = 1) or not (target = 0)."
   ]
  },
  {
   "cell_type": "markdown",
   "metadata": {},
   "source": [
    "### About Missing Data\n",
    "From data description, values of **-1** indicate that the feature was missing from the observation. Let's check missing data."
   ]
  },
  {
   "cell_type": "code",
   "execution_count": 38,
   "metadata": {
    "collapsed": false,
    "scrolled": true
   },
   "outputs": [
    {
     "data": {
      "text/html": [
       "<div>\n",
       "<table border=\"1\" class=\"dataframe\">\n",
       "  <thead>\n",
       "    <tr style=\"text-align: right;\">\n",
       "      <th></th>\n",
       "      <th>Feature</th>\n",
       "      <th>Number of Data Records Missing</th>\n",
       "    </tr>\n",
       "  </thead>\n",
       "  <tbody>\n",
       "    <tr>\n",
       "      <th>0</th>\n",
       "      <td>ps_car_03_cat</td>\n",
       "      <td>411231</td>\n",
       "    </tr>\n",
       "    <tr>\n",
       "      <th>1</th>\n",
       "      <td>ps_car_05_cat</td>\n",
       "      <td>266551</td>\n",
       "    </tr>\n",
       "    <tr>\n",
       "      <th>2</th>\n",
       "      <td>ps_reg_03</td>\n",
       "      <td>107772</td>\n",
       "    </tr>\n",
       "    <tr>\n",
       "      <th>3</th>\n",
       "      <td>ps_car_14</td>\n",
       "      <td>42620</td>\n",
       "    </tr>\n",
       "    <tr>\n",
       "      <th>4</th>\n",
       "      <td>ps_car_07_cat</td>\n",
       "      <td>11489</td>\n",
       "    </tr>\n",
       "  </tbody>\n",
       "</table>\n",
       "</div>"
      ],
      "text/plain": [
       "         Feature  Number of Data Records Missing\n",
       "0  ps_car_03_cat                          411231\n",
       "1  ps_car_05_cat                          266551\n",
       "2      ps_reg_03                          107772\n",
       "3      ps_car_14                           42620\n",
       "4  ps_car_07_cat                           11489"
      ]
     },
     "execution_count": 38,
     "metadata": {},
     "output_type": "execute_result"
    }
   ],
   "source": [
    "# Top 5 features with most missing data in training dataset\n",
    "train = train.replace(-1, np.nan)\n",
    "train_missing = train.isnull().sum().sort_values(ascending=False)\n",
    "train_missing = pd.DataFrame(train_missing).reset_index()\n",
    "train_missing.columns = ['Feature', 'Number of Data Records Missing']\n",
    "train_missing.head()"
   ]
  },
  {
   "cell_type": "code",
   "execution_count": 40,
   "metadata": {
    "collapsed": false
   },
   "outputs": [
    {
     "data": {
      "image/png": "[encoded data removed]",
      "text/plain": [
       "<matplotlib.figure.Figure at 0x217ce7b8>"
      ]
     },
     "metadata": {},
     "output_type": "display_data"
    }
   ],
   "source": [
    "# Visualize the percentage of data missing\n",
    "train_missingpercent = 100 * (train.isnull().sum()/train.isnull().count()).sort_values(ascending=False)\n",
    "\n",
    "plt.figure(figsize = (10, 4), dpi = 400)\n",
    "plt.bar(np.arange(5), train_missingpercent[:5], align='center', alpha=0.5)\n",
    "plt.xticks(np.arange(5), train_missingpercent.index[:5], fontsize=12)\n",
    "plt.ylim(0, 100)\n",
    "plt.ylabel('Percentage of Data Missing', fontsize = 14)\n",
    "plt.title('5 Features with Most Data Missing in Training Dataset', fontsize = 14) \n",
    "# plt.savefig('5 Features with Most Data Missing in Training Dataset.jpg')\n",
    "plt.show()"
   ]
  },
  {
   "cell_type": "markdown",
   "metadata": {},
   "source": [
    "### Drop Redundant Features & Replace Missing Data\n",
    "* Features **'ps_car_03_cat'** and **'ps_car_05_cat'** have more than 40% data missing, drop them.\n",
    "* Analyze the correlations of all remaining features, drop redundant features\n",
    "* Replace missing data in remaining features"
   ]
  },
  {
   "cell_type": "code",
   "execution_count": 35,
   "metadata": {
    "collapsed": false
   },
   "outputs": [],
   "source": [
    "# drop features 'ps_car_03_cat' and 'ps_car_05_cat'\n",
    "train = train.drop(['ps_car_03_cat', 'ps_car_05_cat'], axis = 1)\n",
    "test = test.drop(['ps_car_03_cat', 'ps_car_05_cat'], axis = 1)"
   ]
  },
  {
   "cell_type": "code",
   "execution_count": 29,
   "metadata": {
    "collapsed": false
   },
   "outputs": [
    {
     "data": {
      "image/png": "[encoded data removed]",
      "text/plain": [
       "<matplotlib.figure.Figure at 0x6bb8ca58>"
      ]
     },
     "metadata": {},
     "output_type": "display_data"
    }
   ],
   "source": [
    "# visualize the correlation between remaining features\n",
    "corr = train.corr()\n",
    "\n",
    "plt.figure(figsize = (20,10), dpi= 400)\n",
    "sns.heatmap(corr)\n",
    "plt.title(\"Correlation Between Features\", fontsize = 14)\n",
    "plt.xticks(rotation = 'vertical')\n",
    "# plt.savefig('Correlation Between Features.jpg')\n",
    "plt.show()"
   ]
  },
  {
   "cell_type": "markdown",
   "metadata": {},
   "source": [
    "Features with **_calc_** in their names show little correlation with any other features in the training dataset. For dimensionality reduction, we should drop these features also."
   ]
  },
  {
   "cell_type": "code",
   "execution_count": 12,
   "metadata": {
    "collapsed": false
   },
   "outputs": [
    {
     "name": "stdout",
     "output_type": "stream",
     "text": [
      "(595212, 37)\n",
      "(892816, 36)\n"
     ]
    }
   ],
   "source": [
    "# drop features with '_calc_' in feature names\n",
    "feature_calc = list(train.columns[train.columns.str.contains('_calc_')])\n",
    "\n",
    "train = train.drop(feature_calc, axis = 1)\n",
    "test = test.drop(feature_calc, axis = 1)\n",
    "\n",
    "print train.shape\n",
    "print test.shape"
   ]
  },
  {
   "cell_type": "markdown",
   "metadata": {},
   "source": [
    "Now replace the missing data in the remaining features:\n",
    "* For binary features (bin) and categorical features (cat), replace missing data with the most frequest value of the feature\n",
    "* For other features (continuous or ordinal), replace missing data with mean value of the feature"
   ]
  },
  {
   "cell_type": "code",
   "execution_count": 13,
   "metadata": {
    "collapsed": false
   },
   "outputs": [],
   "source": [
    "# replace missing data in the remaining features\n",
    "feature_bin = [f for f in train.columns if f.endswith('bin')] \n",
    "feature_cat = [f for f in train.columns if f.endswith('cat')] \n",
    "feature_els = [f for f in train.columns if (f not in feature_bin) & (f not in feature_cat) & (f not in ['id', 'target'])]\n",
    "\n",
    "for f in (feature_bin + feature_cat):\n",
    "    train[f].fillna(value=train[f].mode()[0], inplace=True)\n",
    "    test[f].fillna(value=test[f].mode()[0], inplace=True)\n",
    "    \n",
    "for f in feature_els:\n",
    "    train[f].fillna(value=train[f].mean(), inplace=True)\n",
    "    test[f].fillna(value=test[f].mean(), inplace=True)"
   ]
  },
  {
   "cell_type": "markdown",
   "metadata": {},
   "source": [
    "Now let's look at these features' data distribution:"
   ]
  },
  {
   "cell_type": "code",
   "execution_count": 14,
   "metadata": {
    "collapsed": false
   },
   "outputs": [
    {
     "data": {
      "image/png": "[encoded data removed]",
      "text/plain": [
       "<matplotlib.figure.Figure at 0x23ceffd0>"
      ]
     },
     "metadata": {},
     "output_type": "display_data"
    }
   ],
   "source": [
    "# Visualize binary features data and categorical features data (for styling, plot only features with 2 unique values)\n",
    "plt.figure(figsize=(20, 20), dpi = 400)\n",
    "count = 0\n",
    "\n",
    "for f in (feature_bin + feature_cat):\n",
    "    if  train[f].nunique() <= 2:\n",
    "        ax = plt.subplot(4, 4, count+1)\n",
    "        sns.countplot(train[f])\n",
    "        plt.xlabel(f, fontsize = 14)\n",
    "        plt.ylabel(\"Count\", fontsize = 12)\n",
    "        plt.ylim(0, 600000)\n",
    "        count += 1\n",
    "        \n",
    "# plt.savefig('Feature Data Distribution.jpg')\n",
    "plt.show()"
   ]
  },
  {
   "cell_type": "markdown",
   "metadata": {},
   "source": [
    "### Data Preparation\n",
    "Before applying machine learning algorithms, I should conduct feature standardization (z-score normalization)."
   ]
  },
  {
   "cell_type": "code",
   "execution_count": 15,
   "metadata": {
    "collapsed": true
   },
   "outputs": [],
   "source": [
    "# standardization of non categorical features\n",
    "feature_non_cat = [f for f in train.columns if (f.endswith('cat') != True) & (f not in ['id', 'target'])]\n",
    "scaler = StandardScaler()\n",
    "\n",
    "X_train = train.drop(['target', 'id'], axis=1)\n",
    "y_train = train['target']\n",
    "X_valid = test.drop('id', axis=1)\n",
    "\n",
    "X_train.loc[:, feature_non_cat] = scaler.fit_transform(X_train[feature_non_cat])\n",
    "X_valid.loc[:, feature_non_cat] = scaler.transform(X_valid[feature_non_cat])"
   ]
  },
  {
   "cell_type": "markdown",
   "metadata": {},
   "source": [
    "Now I will covert categorical features to dummy variables (one-hot encoding). One thing to note is that feature **'ps_car_11_cat'** has 104 unique values."
   ]
  },
  {
   "cell_type": "code",
   "execution_count": 16,
   "metadata": {
    "collapsed": false
   },
   "outputs": [
    {
     "name": "stdout",
     "output_type": "stream",
     "text": [
      "[ 12  19  60 104  82  99  30  68  20  36 101 103  41  59  43  64  29  95\n",
      "  24   5  28  87  66  10  26  54  32  38  83  89  49  93   1  22  85  78\n",
      "  31  34   7   8   3  46  27  25  61  16  69  40  76  39  88  42  75  91\n",
      "  23   2  71  90  80  44  92  72  96  86  62  33  67  73  77  18  21  74\n",
      "  37  48  70  13  15 102  53  65 100  51  79  52  63  94   6  57  35  98\n",
      "  56  97  55  84  50   4  58   9  17  11  45  14  81  47]\n"
     ]
    }
   ],
   "source": [
    "print train['ps_car_11_cat'].unique()"
   ]
  },
  {
   "cell_type": "markdown",
   "metadata": {},
   "source": [
    "Because of the amount of categorical feature **'ps_car_11_cat'** and other features have, the next step (coverting to dummy variables) will use about 2.2 GB memory and produce sparse matrix. Although executing the next cell is not very time-consuming, sometimes I run out of memory if I have many other applications running on my computer."
   ]
  },
  {
   "cell_type": "code",
   "execution_count": 18,
   "metadata": {
    "collapsed": false
   },
   "outputs": [
    {
     "name": "stdout",
     "output_type": "stream",
     "text": [
      "(595212, 201)\n",
      "(892816, 201)\n"
     ]
    }
   ],
   "source": [
    "# covert categorical features to dummy variables\n",
    "train_num = train.shape[0]\n",
    "\n",
    "dataset = pd.concat([X_train, X_valid], axis=0)   \n",
    "dataset = pd.get_dummies(columns=feature_cat, data=dataset)\n",
    "\n",
    "X_train = dataset[:train_num]\n",
    "X_valid = dataset[train_num:]\n",
    "print X_train.shape\n",
    "print X_valid.shape"
   ]
  },
  {
   "cell_type": "markdown",
   "metadata": {},
   "source": [
    "### Feature Selection (Random Forest Classifier)\n",
    "Wow, now we have dataframes with 201 columns (features), let's use random forest classifier to select 20 most important features contributing to a claim to be filed (target = 1). For the random forest classifier part here, I referenced codes from [Prof. Ravi Shroff](http://cusp.nyu.edu/people/ravi-shroff/) 's Machine Learning class at CUSP. "
   ]
  },
  {
   "cell_type": "code",
   "execution_count": 19,
   "metadata": {
    "collapsed": true
   },
   "outputs": [],
   "source": [
    "# split training dataset to random training and testing dataset for validation later\n",
    "X_train, X_test, y_train, y_test = train_test_split(X_train, y_train, train_size = 0.7)"
   ]
  },
  {
   "cell_type": "code",
   "execution_count": 20,
   "metadata": {
    "collapsed": false
   },
   "outputs": [
    {
     "name": "stdout",
     "output_type": "stream",
     "text": [
      "building tree 1 of 50\n",
      "building tree 2 of 50\n",
      "building tree 3 of 50\n",
      "building tree 4 of 50\n",
      "building tree 5 of 50\n",
      "building tree 6 of 50\n",
      "building tree 7 of 50\n",
      "building tree 8 of 50\n",
      "building tree 9 of 50\n",
      "building tree 10 of 50\n",
      "building tree 11 of 50\n",
      "building tree 12 of 50\n",
      "building tree 13 of 50\n",
      "building tree 14 of 50\n",
      "building tree 15 of 50\n",
      "building tree 16 of 50\n",
      "building tree 17 of 50\n",
      "building tree 18 of 50\n",
      "building tree 19 of 50\n",
      "building tree 20 of 50\n",
      "building tree 21 of 50\n",
      "building tree 22 of 50\n",
      "building tree 23 of 50\n",
      "building tree 24 of 50\n",
      "building tree 25 of 50\n",
      "building tree 26 of 50\n",
      "building tree 27 of 50\n",
      "building tree 28 of 50\n",
      "building tree 29 of 50\n",
      "building tree 30 of 50\n",
      "building tree 31 of 50\n",
      "building tree 32 of 50\n",
      "building tree 33 of 50\n",
      "building tree 34 of 50\n",
      "building tree 35 of 50\n",
      "building tree 36 of 50\n",
      "building tree 37 of 50\n"
     ]
    },
    {
     "name": "stderr",
     "output_type": "stream",
     "text": [
      "[Parallel(n_jobs=4)]: Done  33 tasks      | elapsed:   36.4s\n"
     ]
    },
    {
     "name": "stdout",
     "output_type": "stream",
     "text": [
      "building tree 38 of 50\n",
      "building tree 39 of 50\n",
      "building tree 40 of 50\n",
      "building tree 41 of 50\n",
      "building tree 42 of 50\n",
      "building tree 43 of 50\n",
      "building tree 44 of 50\n",
      "building tree 45 of 50\n",
      "building tree 46 of 50\n",
      "building tree 47 of 50\n",
      "building tree 48 of 50\n",
      "building tree 49 of 50\n",
      "building tree 50 of 50\n"
     ]
    },
    {
     "name": "stderr",
     "output_type": "stream",
     "text": [
      "[Parallel(n_jobs=4)]: Done  50 out of  50 | elapsed:   53.7s finished\n"
     ]
    },
    {
     "data": {
      "text/plain": [
       "RandomForestClassifier(bootstrap=True, class_weight=None, criterion='gini',\n",
       "            max_depth=None, max_features='auto', max_leaf_nodes=None,\n",
       "            min_samples_leaf=1, min_samples_split=10,\n",
       "            min_weight_fraction_leaf=0.0, n_estimators=50, n_jobs=4,\n",
       "            oob_score=True, random_state=None, verbose=2, warm_start=False)"
      ]
     },
     "execution_count": 20,
     "metadata": {},
     "output_type": "execute_result"
    }
   ],
   "source": [
    "# train the model with 50 trees, 4 parallel processes, and 10 minimum samples to split a node \n",
    "num_trees = 50\n",
    "rf = RandomForestClassifier(n_estimators=num_trees, n_jobs=4, min_samples_split=10, verbose=2, oob_score = True)\n",
    "rf.fit(X=X_train, y=y_train)"
   ]
  },
  {
   "cell_type": "code",
   "execution_count": 21,
   "metadata": {
    "collapsed": false
   },
   "outputs": [
    {
     "name": "stderr",
     "output_type": "stream",
     "text": [
      "[Parallel(n_jobs=4)]: Done  33 tasks      | elapsed:    1.4s\n",
      "[Parallel(n_jobs=4)]: Done  50 out of  50 | elapsed:    2.1s finished\n"
     ]
    },
    {
     "name": "stdout",
     "output_type": "stream",
     "text": [
      "0.59645323858\n"
     ]
    },
    {
     "name": "stderr",
     "output_type": "stream",
     "text": [
      "[Parallel(n_jobs=4)]: Done  33 tasks      | elapsed:    1.3s\n"
     ]
    },
    {
     "name": "stdout",
     "output_type": "stream",
     "text": [
      "0.963615286396\n"
     ]
    },
    {
     "name": "stderr",
     "output_type": "stream",
     "text": [
      "[Parallel(n_jobs=4)]: Done  50 out of  50 | elapsed:    1.9s finished\n"
     ]
    }
   ],
   "source": [
    "# generate predictions on test datasets (which is a random subset split from the training set)\n",
    "rf_predictions = rf.predict_proba(X_test)[:, 1]\n",
    "\n",
    "# get AUC score (produce probabilistic predictions)\n",
    "print roc_auc_score(y_test, rf_predictions)\n",
    "\n",
    "# get accuracy score (predict the class)\n",
    "rf_predictions_class = rf.predict(X_test)\n",
    "print accuracy_score(y_test, rf_predictions_class, normalize=True)"
   ]
  },
  {
   "cell_type": "code",
   "execution_count": 25,
   "metadata": {
    "collapsed": false
   },
   "outputs": [
    {
     "name": "stdout",
     "output_type": "stream",
     "text": [
      "        feature_select  feature_importance\n",
      "0            ps_car_13            0.098262\n",
      "1            ps_reg_03            0.093183\n",
      "2            ps_car_14            0.057226\n",
      "3            ps_ind_03            0.051262\n",
      "4            ps_ind_15            0.051083\n",
      "5            ps_reg_02            0.049227\n",
      "6            ps_ind_01            0.036896\n",
      "7            ps_car_15            0.036607\n",
      "8            ps_reg_01            0.036353\n",
      "9            ps_car_12            0.027303\n",
      "10           ps_car_11            0.012646\n",
      "11  ps_car_01_cat_11.0            0.008632\n",
      "12   ps_car_09_cat_2.0            0.008630\n",
      "13   ps_ind_04_cat_0.0            0.008376\n",
      "14   ps_ind_02_cat_1.0            0.008298\n",
      "15   ps_ind_04_cat_1.0            0.008273\n",
      "16   ps_ind_02_cat_2.0            0.008004\n",
      "17       ps_ind_16_bin            0.008000\n",
      "18   ps_car_09_cat_0.0            0.007793\n",
      "19   ps_car_01_cat_7.0            0.007719\n"
     ]
    }
   ],
   "source": [
    "# select 20 most important features \n",
    "# print out and store the 20 features' names and their importances to a dataframe 'df_feature_select20'\n",
    "feature_names = list(X_test.columns.values)\n",
    "feature_importances = list(rf.feature_importances_)\n",
    "feature_list = []\n",
    "\n",
    "for i in range(0,len(feature_names)):\n",
    "    feature_list.append((feature_names[i], feature_importances[i]))\n",
    "    \n",
    "df_feature_select20 = pd.DataFrame(sorted(feature_list, reverse=True, key=lambda x: x[1])[:20])\n",
    "df_feature_select20.columns = ['feature_select', 'feature_importance']\n",
    "print df_feature_select20"
   ]
  },
  {
   "cell_type": "code",
   "execution_count": 26,
   "metadata": {
    "collapsed": false
   },
   "outputs": [],
   "source": [
    "# slice datasets to contain information on only these 20 features\n",
    "X_train_select20 = X_train[df_feature_select20['feature_select']]\n",
    "X_valid_select20 = X_valid[df_feature_select20['feature_select']]\n",
    "X_test_select20 = X_test[df_feature_select20['feature_select']]"
   ]
  },
  {
   "cell_type": "markdown",
   "metadata": {},
   "source": [
    "### Train A Model (Logistic Regression)\n",
    "Let's train a model learning from data on data of these selected featues. Here I only used logistic regression model, many more other algorithms can be implemented."
   ]
  },
  {
   "cell_type": "code",
   "execution_count": 27,
   "metadata": {
    "collapsed": false
   },
   "outputs": [
    {
     "name": "stdout",
     "output_type": "stream",
     "text": [
      "(0.96352316583782949, 0.96362088662888379)\n"
     ]
    }
   ],
   "source": [
    "lr = LogisticRegression()\n",
    "lr.fit(X_train, y_train)\n",
    "\n",
    "# calculate regression score to test over fitting\n",
    "print (lr.score(X_train, y_train) , lr.score(X_test, y_test))"
   ]
  },
  {
   "cell_type": "markdown",
   "metadata": {},
   "source": [
    "### Predict & Output\n",
    "Apply the logistic regression model on original test dataset, write the prediction of risks (**_target_** value) to a .csv file."
   ]
  },
  {
   "cell_type": "code",
   "execution_count": 28,
   "metadata": {
    "collapsed": false
   },
   "outputs": [
    {
     "data": {
      "text/html": [
       "<div>\n",
       "<table border=\"1\" class=\"dataframe\">\n",
       "  <thead>\n",
       "    <tr style=\"text-align: right;\">\n",
       "      <th></th>\n",
       "      <th>id</th>\n",
       "      <th>target</th>\n",
       "    </tr>\n",
       "  </thead>\n",
       "  <tbody>\n",
       "    <tr>\n",
       "      <th>0</th>\n",
       "      <td>0</td>\n",
       "      <td>0.027729</td>\n",
       "    </tr>\n",
       "    <tr>\n",
       "      <th>1</th>\n",
       "      <td>1</td>\n",
       "      <td>0.032712</td>\n",
       "    </tr>\n",
       "    <tr>\n",
       "      <th>2</th>\n",
       "      <td>2</td>\n",
       "      <td>0.022809</td>\n",
       "    </tr>\n",
       "    <tr>\n",
       "      <th>3</th>\n",
       "      <td>3</td>\n",
       "      <td>0.020033</td>\n",
       "    </tr>\n",
       "    <tr>\n",
       "      <th>4</th>\n",
       "      <td>4</td>\n",
       "      <td>0.035388</td>\n",
       "    </tr>\n",
       "    <tr>\n",
       "      <th>5</th>\n",
       "      <td>5</td>\n",
       "      <td>0.030271</td>\n",
       "    </tr>\n",
       "    <tr>\n",
       "      <th>6</th>\n",
       "      <td>6</td>\n",
       "      <td>0.019810</td>\n",
       "    </tr>\n",
       "    <tr>\n",
       "      <th>7</th>\n",
       "      <td>8</td>\n",
       "      <td>0.019596</td>\n",
       "    </tr>\n",
       "    <tr>\n",
       "      <th>8</th>\n",
       "      <td>10</td>\n",
       "      <td>0.066153</td>\n",
       "    </tr>\n",
       "    <tr>\n",
       "      <th>9</th>\n",
       "      <td>11</td>\n",
       "      <td>0.043696</td>\n",
       "    </tr>\n",
       "  </tbody>\n",
       "</table>\n",
       "</div>"
      ],
      "text/plain": [
       "   id    target\n",
       "0   0  0.027729\n",
       "1   1  0.032712\n",
       "2   2  0.022809\n",
       "3   3  0.020033\n",
       "4   4  0.035388\n",
       "5   5  0.030271\n",
       "6   6  0.019810\n",
       "7   8  0.019596\n",
       "8  10  0.066153\n",
       "9  11  0.043696"
      ]
     },
     "execution_count": 28,
     "metadata": {},
     "output_type": "execute_result"
    }
   ],
   "source": [
    "# apply the model on test dataset for prediction\n",
    "id = test.id\n",
    "result = lr.predict_proba(X_valid)\n",
    "\n",
    "output = pd.DataFrame( { 'id': id , 'target': result[:,1]} )\n",
    "output = output[['id', 'target']]\n",
    "\n",
    "output.to_csv(\"submission-jiheng-50trees-logic.csv\", index = False)\n",
    "output.head(10)"
   ]
  },
  {
   "cell_type": "markdown",
   "metadata": {},
   "source": [
    "### Submit to Kaggle Competition\n",
    "Current normalized Gini score: 0.241"
   ]
  },
  {
   "cell_type": "code",
   "execution_count": null,
   "metadata": {
    "collapsed": true
   },
   "outputs": [],
   "source": []
  }
 ],
 "metadata": {
  "kernelspec": {
   "display_name": "Python 2",
   "language": "python",
   "name": "python2"
  },
  "language_info": {
   "codemirror_mode": {
    "name": "ipython",
    "version": 2
   },
   "file_extension": ".py",
   "mimetype": "text/x-python",
   "name": "python",
   "nbconvert_exporter": "python",
   "pygments_lexer": "ipython2",
   "version": "2.7.11"
  }
 },
 "nbformat": 4,
 "nbformat_minor": 0
}
